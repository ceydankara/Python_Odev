{
 "cells": [
  {
   "cell_type": "code",
   "execution_count": 1,
   "id": "9e1b95da-7315-40f5-97e2-d018aa0b1167",
   "metadata": {},
   "outputs": [],
   "source": [
    "import pandas as pd"
   ]
  },
  {
   "cell_type": "code",
   "execution_count": 4,
   "id": "145b96a1-5062-4b31-aa92-dcba0c4d2927",
   "metadata": {},
   "outputs": [
    {
     "data": {
      "text/html": [
       "<div>\n",
       "<style scoped>\n",
       "    .dataframe tbody tr th:only-of-type {\n",
       "        vertical-align: middle;\n",
       "    }\n",
       "\n",
       "    .dataframe tbody tr th {\n",
       "        vertical-align: top;\n",
       "    }\n",
       "\n",
       "    .dataframe thead th {\n",
       "        text-align: right;\n",
       "    }\n",
       "</style>\n",
       "<table border=\"1\" class=\"dataframe\">\n",
       "  <thead>\n",
       "    <tr style=\"text-align: right;\">\n",
       "      <th></th>\n",
       "      <th>Sales Person</th>\n",
       "      <th>Country</th>\n",
       "      <th>Product</th>\n",
       "      <th>Date</th>\n",
       "      <th>Amount</th>\n",
       "      <th>Boxes Shipped</th>\n",
       "    </tr>\n",
       "  </thead>\n",
       "  <tbody>\n",
       "    <tr>\n",
       "      <th>0</th>\n",
       "      <td>Jehu Rudeforth</td>\n",
       "      <td>UK</td>\n",
       "      <td>Mint Chip Choco</td>\n",
       "      <td>04-Jan-22</td>\n",
       "      <td>$5,320</td>\n",
       "      <td>NaN</td>\n",
       "    </tr>\n",
       "    <tr>\n",
       "      <th>1</th>\n",
       "      <td>Van Tuxwell</td>\n",
       "      <td>India</td>\n",
       "      <td>85% Dark Bars</td>\n",
       "      <td>01-Aug-22</td>\n",
       "      <td>$7,896</td>\n",
       "      <td>94.0</td>\n",
       "    </tr>\n",
       "    <tr>\n",
       "      <th>2</th>\n",
       "      <td>Gigi Bohling</td>\n",
       "      <td>India</td>\n",
       "      <td>Peanut Butter Cubes</td>\n",
       "      <td>07-Jul-22</td>\n",
       "      <td>$4,501</td>\n",
       "      <td>91.0</td>\n",
       "    </tr>\n",
       "    <tr>\n",
       "      <th>3</th>\n",
       "      <td>Jan Morforth</td>\n",
       "      <td>Australia</td>\n",
       "      <td>Peanut Butter Cubes</td>\n",
       "      <td>27-Apr-22</td>\n",
       "      <td>$12,726</td>\n",
       "      <td>NaN</td>\n",
       "    </tr>\n",
       "    <tr>\n",
       "      <th>4</th>\n",
       "      <td>Jehu Rudeforth</td>\n",
       "      <td>UK</td>\n",
       "      <td>Peanut Butter Cubes</td>\n",
       "      <td>24-Feb-22</td>\n",
       "      <td>$13,685</td>\n",
       "      <td>184.0</td>\n",
       "    </tr>\n",
       "    <tr>\n",
       "      <th>...</th>\n",
       "      <td>...</td>\n",
       "      <td>...</td>\n",
       "      <td>...</td>\n",
       "      <td>...</td>\n",
       "      <td>...</td>\n",
       "      <td>...</td>\n",
       "    </tr>\n",
       "    <tr>\n",
       "      <th>1089</th>\n",
       "      <td>Karlen McCaffrey</td>\n",
       "      <td>Australia</td>\n",
       "      <td>Spicy Special Slims</td>\n",
       "      <td>17-May-22</td>\n",
       "      <td>$4,410</td>\n",
       "      <td>323.0</td>\n",
       "    </tr>\n",
       "    <tr>\n",
       "      <th>1090</th>\n",
       "      <td>Jehu Rudeforth</td>\n",
       "      <td>USA</td>\n",
       "      <td>White Choc</td>\n",
       "      <td>07-Jun-22</td>\n",
       "      <td>$6,559</td>\n",
       "      <td>119.0</td>\n",
       "    </tr>\n",
       "    <tr>\n",
       "      <th>1091</th>\n",
       "      <td>Ches Bonnell</td>\n",
       "      <td>Canada</td>\n",
       "      <td>Organic Choco Syrup</td>\n",
       "      <td>26-Jul-22</td>\n",
       "      <td>$574</td>\n",
       "      <td>217.0</td>\n",
       "    </tr>\n",
       "    <tr>\n",
       "      <th>1092</th>\n",
       "      <td>Dotty Strutley</td>\n",
       "      <td>India</td>\n",
       "      <td>Eclairs</td>\n",
       "      <td>28-Jul-22</td>\n",
       "      <td>$2,086</td>\n",
       "      <td>384.0</td>\n",
       "    </tr>\n",
       "    <tr>\n",
       "      <th>1093</th>\n",
       "      <td>Karlen McCaffrey</td>\n",
       "      <td>India</td>\n",
       "      <td>70% Dark Bites</td>\n",
       "      <td>23-May-22</td>\n",
       "      <td>$5,075</td>\n",
       "      <td>344.0</td>\n",
       "    </tr>\n",
       "  </tbody>\n",
       "</table>\n",
       "<p>1094 rows × 6 columns</p>\n",
       "</div>"
      ],
      "text/plain": [
       "          Sales Person    Country              Product       Date    Amount  \\\n",
       "0       Jehu Rudeforth         UK      Mint Chip Choco  04-Jan-22   $5,320    \n",
       "1          Van Tuxwell      India        85% Dark Bars  01-Aug-22   $7,896    \n",
       "2         Gigi Bohling      India  Peanut Butter Cubes  07-Jul-22   $4,501    \n",
       "3         Jan Morforth  Australia  Peanut Butter Cubes  27-Apr-22  $12,726    \n",
       "4       Jehu Rudeforth         UK  Peanut Butter Cubes  24-Feb-22  $13,685    \n",
       "...                ...        ...                  ...        ...       ...   \n",
       "1089  Karlen McCaffrey  Australia  Spicy Special Slims  17-May-22   $4,410    \n",
       "1090    Jehu Rudeforth        USA           White Choc  07-Jun-22   $6,559    \n",
       "1091      Ches Bonnell     Canada  Organic Choco Syrup  26-Jul-22     $574    \n",
       "1092    Dotty Strutley      India              Eclairs  28-Jul-22   $2,086    \n",
       "1093  Karlen McCaffrey      India       70% Dark Bites  23-May-22   $5,075    \n",
       "\n",
       "      Boxes Shipped  \n",
       "0               NaN  \n",
       "1              94.0  \n",
       "2              91.0  \n",
       "3               NaN  \n",
       "4             184.0  \n",
       "...             ...  \n",
       "1089          323.0  \n",
       "1090          119.0  \n",
       "1091          217.0  \n",
       "1092          384.0  \n",
       "1093          344.0  \n",
       "\n",
       "[1094 rows x 6 columns]"
      ]
     },
     "execution_count": 4,
     "metadata": {},
     "output_type": "execute_result"
    }
   ],
   "source": [
    "df1= pd.read_csv(\"Chocolate Sales2.csv\")\n",
    "df1"
   ]
  },
  {
   "cell_type": "markdown",
   "id": "67909995-4e54-4269-8028-c7b908cd96c4",
   "metadata": {},
   "source": [
    "# 1) head() \n",
    "ilk 5 satırı getirir"
   ]
  },
  {
   "cell_type": "code",
   "execution_count": 5,
   "id": "9ead0897-f5c8-48b8-861b-80813b611745",
   "metadata": {},
   "outputs": [
    {
     "name": "stdout",
     "output_type": "stream",
     "text": [
      "     Sales Person    Country              Product       Date    Amount  \\\n",
      "0  Jehu Rudeforth         UK      Mint Chip Choco  04-Jan-22   $5,320    \n",
      "1     Van Tuxwell      India        85% Dark Bars  01-Aug-22   $7,896    \n",
      "2    Gigi Bohling      India  Peanut Butter Cubes  07-Jul-22   $4,501    \n",
      "3    Jan Morforth  Australia  Peanut Butter Cubes  27-Apr-22  $12,726    \n",
      "4  Jehu Rudeforth         UK  Peanut Butter Cubes  24-Feb-22  $13,685    \n",
      "\n",
      "   Boxes Shipped  \n",
      "0            NaN  \n",
      "1           94.0  \n",
      "2           91.0  \n",
      "3            NaN  \n",
      "4          184.0  \n"
     ]
    }
   ],
   "source": [
    "print(df1.head())"
   ]
  },
  {
   "cell_type": "markdown",
   "id": "cdc29a48-12fe-4b5f-ae48-e07a86ccf2ff",
   "metadata": {},
   "source": [
    "# 2) tail()\n",
    "son 5 satırı getirir."
   ]
  },
  {
   "cell_type": "code",
   "execution_count": 6,
   "id": "e98ac670-757d-4b52-98de-7b25b10ae69c",
   "metadata": {},
   "outputs": [
    {
     "name": "stdout",
     "output_type": "stream",
     "text": [
      "          Sales Person    Country              Product       Date   Amount  \\\n",
      "1089  Karlen McCaffrey  Australia  Spicy Special Slims  17-May-22  $4,410    \n",
      "1090    Jehu Rudeforth        USA           White Choc  07-Jun-22  $6,559    \n",
      "1091      Ches Bonnell     Canada  Organic Choco Syrup  26-Jul-22    $574    \n",
      "1092    Dotty Strutley      India              Eclairs  28-Jul-22  $2,086    \n",
      "1093  Karlen McCaffrey      India       70% Dark Bites  23-May-22  $5,075    \n",
      "\n",
      "      Boxes Shipped  \n",
      "1089          323.0  \n",
      "1090          119.0  \n",
      "1091          217.0  \n",
      "1092          384.0  \n",
      "1093          344.0  \n"
     ]
    }
   ],
   "source": [
    "print(df1.tail())"
   ]
  },
  {
   "cell_type": "markdown",
   "id": "d1cc2fc4-d7f0-4822-b261-0e92675eaa82",
   "metadata": {},
   "source": [
    "# 3) info()\n",
    "DataFrame hakkında bilgi verir."
   ]
  },
  {
   "cell_type": "code",
   "execution_count": 7,
   "id": "bb105a93-68dc-4aa3-b1f7-f2f4ff5998b4",
   "metadata": {},
   "outputs": [
    {
     "name": "stdout",
     "output_type": "stream",
     "text": [
      "<class 'pandas.core.frame.DataFrame'>\n",
      "RangeIndex: 1094 entries, 0 to 1093\n",
      "Data columns (total 6 columns):\n",
      " #   Column         Non-Null Count  Dtype  \n",
      "---  ------         --------------  -----  \n",
      " 0   Sales Person   1094 non-null   object \n",
      " 1   Country        1086 non-null   object \n",
      " 2   Product        1084 non-null   object \n",
      " 3   Date           1085 non-null   object \n",
      " 4   Amount         1083 non-null   object \n",
      " 5   Boxes Shipped  1087 non-null   float64\n",
      "dtypes: float64(1), object(5)\n",
      "memory usage: 51.4+ KB\n",
      "None\n"
     ]
    }
   ],
   "source": [
    "print(df1.info())"
   ]
  },
  {
   "cell_type": "markdown",
   "id": "90ac462d-a846-4d5a-9309-a0be0828d547",
   "metadata": {},
   "source": [
    "# 4) describe()\n",
    "Sayısal sütunlar için özet istatistik"
   ]
  },
  {
   "cell_type": "code",
   "execution_count": 9,
   "id": "d5f3616a-7c17-4566-8219-af541b7d6463",
   "metadata": {},
   "outputs": [
    {
     "name": "stdout",
     "output_type": "stream",
     "text": [
      "       Boxes Shipped\n",
      "count    1087.000000\n",
      "mean      162.062557\n",
      "std       121.593191\n",
      "min         1.000000\n",
      "25%        70.000000\n",
      "50%       135.000000\n",
      "75%       229.000000\n",
      "max       709.000000\n"
     ]
    }
   ],
   "source": [
    "print(df1.describe())"
   ]
  },
  {
   "cell_type": "markdown",
   "id": "f08374f6-9fdf-4815-94b6-381886d17b85",
   "metadata": {},
   "source": [
    "# 5) shape\n",
    "satır ve sütun sayısını döndürür."
   ]
  },
  {
   "cell_type": "code",
   "execution_count": 11,
   "id": "994fba6b-554a-4a8c-8d0c-6dd94828d51a",
   "metadata": {},
   "outputs": [
    {
     "name": "stdout",
     "output_type": "stream",
     "text": [
      "(1094, 6)\n"
     ]
    }
   ],
   "source": [
    "print(df1.shape)"
   ]
  },
  {
   "cell_type": "markdown",
   "id": "7374f6b6-f7fe-4dd0-919a-88a70da98f8b",
   "metadata": {},
   "source": [
    "# 6) columns\n",
    "sütun isimlerini listeler"
   ]
  },
  {
   "cell_type": "code",
   "execution_count": 12,
   "id": "79709703-5946-4b46-a8e2-d8e66d70b7b2",
   "metadata": {},
   "outputs": [
    {
     "name": "stdout",
     "output_type": "stream",
     "text": [
      "Index(['Sales Person', 'Country', 'Product', 'Date', 'Amount',\n",
      "       'Boxes Shipped'],\n",
      "      dtype='object')\n"
     ]
    }
   ],
   "source": [
    "print(df1.columns)"
   ]
  },
  {
   "cell_type": "markdown",
   "id": "20eb126e-8984-4a27-ae53-c38febe6541a",
   "metadata": {},
   "source": [
    "# 7) drop\n",
    "Belirtilen sütunu veya satırı siler"
   ]
  },
  {
   "cell_type": "code",
   "execution_count": 13,
   "id": "ba1a49e2-370b-48e3-811f-21e43b9553de",
   "metadata": {},
   "outputs": [
    {
     "name": "stdout",
     "output_type": "stream",
     "text": [
      "          Sales Person              Product       Date    Amount  \\\n",
      "0       Jehu Rudeforth      Mint Chip Choco  04-Jan-22   $5,320    \n",
      "1          Van Tuxwell        85% Dark Bars  01-Aug-22   $7,896    \n",
      "2         Gigi Bohling  Peanut Butter Cubes  07-Jul-22   $4,501    \n",
      "3         Jan Morforth  Peanut Butter Cubes  27-Apr-22  $12,726    \n",
      "4       Jehu Rudeforth  Peanut Butter Cubes  24-Feb-22  $13,685    \n",
      "...                ...                  ...        ...       ...   \n",
      "1089  Karlen McCaffrey  Spicy Special Slims  17-May-22   $4,410    \n",
      "1090    Jehu Rudeforth           White Choc  07-Jun-22   $6,559    \n",
      "1091      Ches Bonnell  Organic Choco Syrup  26-Jul-22     $574    \n",
      "1092    Dotty Strutley              Eclairs  28-Jul-22   $2,086    \n",
      "1093  Karlen McCaffrey       70% Dark Bites  23-May-22   $5,075    \n",
      "\n",
      "      Boxes Shipped  \n",
      "0               NaN  \n",
      "1              94.0  \n",
      "2              91.0  \n",
      "3               NaN  \n",
      "4             184.0  \n",
      "...             ...  \n",
      "1089          323.0  \n",
      "1090          119.0  \n",
      "1091          217.0  \n",
      "1092          384.0  \n",
      "1093          344.0  \n",
      "\n",
      "[1094 rows x 5 columns]\n"
     ]
    }
   ],
   "source": [
    "df1=df1.drop(columns=['Country'])\n",
    "print(df1)"
   ]
  },
  {
   "cell_type": "markdown",
   "id": "cb0c75eb-b8a9-42b8-8d1d-89529932a3c6",
   "metadata": {},
   "source": [
    "# 8) isnull()\n",
    "Eksik degerleri kontrol eder."
   ]
  },
  {
   "cell_type": "code",
   "execution_count": 14,
   "id": "a878f258-9d85-498f-b7ca-9bd8c17d0233",
   "metadata": {},
   "outputs": [
    {
     "name": "stdout",
     "output_type": "stream",
     "text": [
      "Sales Person      0\n",
      "Product          10\n",
      "Date              9\n",
      "Amount           11\n",
      "Boxes Shipped     7\n",
      "dtype: int64\n"
     ]
    }
   ],
   "source": [
    "print(df1.isnull().sum())"
   ]
  },
  {
   "cell_type": "markdown",
   "id": "a81404dd-09e2-4c55-9641-746c43b3ebe1",
   "metadata": {},
   "source": [
    "# 9) fillna() \n",
    "Eksik degerleri doldurur."
   ]
  },
  {
   "cell_type": "code",
   "execution_count": 15,
   "id": "6a4877da-86e1-4ef8-9c2f-7ef0c57c1f88",
   "metadata": {},
   "outputs": [
    {
     "name": "stdout",
     "output_type": "stream",
     "text": [
      "          Sales Person              Product       Date    Amount  \\\n",
      "0       Jehu Rudeforth      Mint Chip Choco  04-Jan-22   $5,320    \n",
      "1          Van Tuxwell        85% Dark Bars  01-Aug-22   $7,896    \n",
      "2         Gigi Bohling  Peanut Butter Cubes  07-Jul-22   $4,501    \n",
      "3         Jan Morforth  Peanut Butter Cubes  27-Apr-22  $12,726    \n",
      "4       Jehu Rudeforth  Peanut Butter Cubes  24-Feb-22  $13,685    \n",
      "...                ...                  ...        ...       ...   \n",
      "1089  Karlen McCaffrey  Spicy Special Slims  17-May-22   $4,410    \n",
      "1090    Jehu Rudeforth           White Choc  07-Jun-22   $6,559    \n",
      "1091      Ches Bonnell  Organic Choco Syrup  26-Jul-22     $574    \n",
      "1092    Dotty Strutley              Eclairs  28-Jul-22   $2,086    \n",
      "1093  Karlen McCaffrey       70% Dark Bites  23-May-22   $5,075    \n",
      "\n",
      "      Boxes Shipped  \n",
      "0               NaN  \n",
      "1              94.0  \n",
      "2              91.0  \n",
      "3               NaN  \n",
      "4             184.0  \n",
      "...             ...  \n",
      "1089          323.0  \n",
      "1090          119.0  \n",
      "1091          217.0  \n",
      "1092          384.0  \n",
      "1093          344.0  \n",
      "\n",
      "[1094 rows x 5 columns]\n"
     ]
    }
   ],
   "source": [
    "df1['Sales Person']=df1['Sales Person'].fillna(0)\n",
    "print(df1)"
   ]
  },
  {
   "cell_type": "markdown",
   "id": "ef4ad202-678f-40ca-8d71-fb5a48124689",
   "metadata": {},
   "source": [
    "# 10) sort_values()\n",
    "Belirli bir sütuna göre sıralama yapar."
   ]
  },
  {
   "cell_type": "code",
   "execution_count": null,
   "id": "c10eb8a0-571e-4fb3-906f-3bc708ac9d8a",
   "metadata": {},
   "outputs": [],
   "source": [
    "df1=df1.sort_values()"
   ]
  }
 ],
 "metadata": {
  "kernelspec": {
   "display_name": "Python 3 (ipykernel)",
   "language": "python",
   "name": "python3"
  },
  "language_info": {
   "codemirror_mode": {
    "name": "ipython",
    "version": 3
   },
   "file_extension": ".py",
   "mimetype": "text/x-python",
   "name": "python",
   "nbconvert_exporter": "python",
   "pygments_lexer": "ipython3",
   "version": "3.9.21"
  }
 },
 "nbformat": 4,
 "nbformat_minor": 5
}
