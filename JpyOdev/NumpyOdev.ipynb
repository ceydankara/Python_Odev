{
 "cells": [
  {
   "cell_type": "code",
   "execution_count": 18,
   "id": "4b101e78-442d-4686-afd9-4d8b29ccc184",
   "metadata": {},
   "outputs": [],
   "source": [
    "import numpy as np"
   ]
  },
  {
   "cell_type": "markdown",
   "id": "dea4f3b3-93ae-424e-a289-7a1311a3fe2a",
   "metadata": {},
   "source": [
    "# 1) Array "
   ]
  },
  {
   "cell_type": "code",
   "execution_count": 2,
   "id": "df651afb-b22d-457f-a572-aa3357eeba51",
   "metadata": {},
   "outputs": [
    {
     "name": "stdout",
     "output_type": "stream",
     "text": [
      "[1 2 3 4 5]\n"
     ]
    }
   ],
   "source": [
    "arr = np.array([1,2,3,4,5])\n",
    "print (arr)"
   ]
  },
  {
   "cell_type": "markdown",
   "id": "2714bfa8-f553-48c5-9a2d-ec68bf9bdbb4",
   "metadata": {},
   "source": [
    "# 2)np.ones()\n",
    "Bütün elemanları 1 olan bir dizi olustrur."
   ]
  },
  {
   "cell_type": "code",
   "execution_count": 3,
   "id": "68c1d247-6f4d-4b0b-904d-c16b41bd8af1",
   "metadata": {},
   "outputs": [
    {
     "name": "stdout",
     "output_type": "stream",
     "text": [
      "[[1. 1. 1. 1.]\n",
      " [1. 1. 1. 1.]]\n"
     ]
    }
   ],
   "source": [
    "one_arr =np.ones((2,4))\n",
    "print(one_arr)"
   ]
  },
  {
   "cell_type": "markdown",
   "id": "080c82ed-6d74-4cd0-964c-4e9055ce70f0",
   "metadata": {},
   "source": [
    "# 3)np.arange()\n",
    "Belirtilen aralıkta bir dizi olusturur"
   ]
  },
  {
   "cell_type": "code",
   "execution_count": 4,
   "id": "059a1d32-3225-4a99-bb6d-02df448467ec",
   "metadata": {},
   "outputs": [
    {
     "name": "stdout",
     "output_type": "stream",
     "text": [
      "[0 2 4 6 8]\n"
     ]
    }
   ],
   "source": [
    "arr_range=np.arange(0,10,2)\n",
    "print(arr_range)"
   ]
  },
  {
   "cell_type": "markdown",
   "id": "abf20838-54d5-4d22-82cc-15abc7d39dd8",
   "metadata": {},
   "source": [
    "# 4)np.linspace()\n",
    "Belirtilen aralıkta esit aralıklı sayılar üretir."
   ]
  },
  {
   "cell_type": "code",
   "execution_count": 6,
   "id": "867c116d-2255-4061-8c6e-109efa2915ba",
   "metadata": {},
   "outputs": [
    {
     "name": "stdout",
     "output_type": "stream",
     "text": [
      "[0.         0.55555556 1.11111111 1.66666667 2.22222222 2.77777778\n",
      " 3.33333333 3.88888889 4.44444444 5.        ]\n"
     ]
    }
   ],
   "source": [
    "lin_space=np.linspace(0,5,10)\n",
    "print(lin_space)"
   ]
  },
  {
   "cell_type": "markdown",
   "id": "872f46bc-6178-4651-a3a4-1727707b87d6",
   "metadata": {},
   "source": [
    "### 5)np.reshape()\n",
    "Dizinin boyutlarını değiştirir."
   ]
  },
  {
   "cell_type": "code",
   "execution_count": 8,
   "id": "ae966752-6222-4a21-b1b6-c54e58e55885",
   "metadata": {},
   "outputs": [
    {
     "name": "stdout",
     "output_type": "stream",
     "text": [
      "[[1 2 3]\n",
      " [4 5 6]\n",
      " [7 8 9]]\n"
     ]
    }
   ],
   "source": [
    "arr=np.arange(1,10)\n",
    "reshaped_arr=arr.reshape((3,3))\n",
    "print(reshaped_arr)"
   ]
  },
  {
   "cell_type": "markdown",
   "id": "d13fb56a-5759-47f3-8dd6-93dd65da02ae",
   "metadata": {},
   "source": [
    "### 6)np.random.rand()\n",
    "0ile1 arasında rastgele degerler üretir."
   ]
  },
  {
   "cell_type": "code",
   "execution_count": 14,
   "id": "4d176cf4-b0c2-4998-bdbb-45bcbd206bf7",
   "metadata": {},
   "outputs": [
    {
     "name": "stdout",
     "output_type": "stream",
     "text": [
      "[[0.98110536 0.63287001 0.97751502]\n",
      " [0.13072048 0.03429949 0.608531  ]\n",
      " [0.68850265 0.26963622 0.37317644]]\n"
     ]
    }
   ],
   "source": [
    "random_arr = np.random.rand(3, 3)\n",
    "print(random_arr) "
   ]
  },
  {
   "cell_type": "markdown",
   "id": "cf39874b-0004-434e-887a-cba47b781409",
   "metadata": {},
   "source": [
    "# 7)np.mean()\n",
    "Dizinin ortalamasını alır"
   ]
  },
  {
   "cell_type": "code",
   "execution_count": 23,
   "id": "4abfd003-c407-46d2-bfb4-9d87092b6ee3",
   "metadata": {},
   "outputs": [
    {
     "name": "stdout",
     "output_type": "stream",
     "text": [
      "3.0\n"
     ]
    }
   ],
   "source": [
    "print(np.mean(arr)) "
   ]
  },
  {
   "cell_type": "markdown",
   "id": "62e1b806-8a04-4941-9701-2952072114fd",
   "metadata": {},
   "source": [
    "# 8)np.sum()\n",
    "Dizideki tüm elemanların toplamını döndürür."
   ]
  },
  {
   "cell_type": "code",
   "execution_count": 24,
   "id": "5a110057-a556-44a4-b9fc-65e047796dc7",
   "metadata": {},
   "outputs": [
    {
     "name": "stdout",
     "output_type": "stream",
     "text": [
      "15\n"
     ]
    }
   ],
   "source": [
    "arr = np.array([1, 2, 3, 4, 5])\n",
    "print(np.sum(arr))"
   ]
  },
  {
   "cell_type": "markdown",
   "id": "d9b227c7-779e-4b08-8fd7-61f3f18e125f",
   "metadata": {},
   "source": [
    "# 9) np.max() \n",
    "Maksimum değeri bulur."
   ]
  },
  {
   "cell_type": "code",
   "execution_count": 25,
   "id": "cf33c6b2-fa74-4979-92d9-d29eba7a563a",
   "metadata": {},
   "outputs": [
    {
     "name": "stdout",
     "output_type": "stream",
     "text": [
      "30\n"
     ]
    }
   ],
   "source": [
    "arr = np.array([10, 20, 5, 30])\n",
    "print(np.max(arr))  "
   ]
  },
  {
   "cell_type": "markdown",
   "id": "311a378c-c6dd-4147-be51-cc4d2979a345",
   "metadata": {},
   "source": [
    "# 10)np.min()\n",
    "Minimum değeri döndüür"
   ]
  }
 ],
 "metadata": {
  "kernelspec": {
   "display_name": "Python 3 (ipykernel)",
   "language": "python",
   "name": "python3"
  },
  "language_info": {
   "codemirror_mode": {
    "name": "ipython",
    "version": 3
   },
   "file_extension": ".py",
   "mimetype": "text/x-python",
   "name": "python",
   "nbconvert_exporter": "python",
   "pygments_lexer": "ipython3",
   "version": "3.9.21"
  }
 },
 "nbformat": 4,
 "nbformat_minor": 5
}
